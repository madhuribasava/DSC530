{
 "cells": [
  {
   "cell_type": "markdown",
   "id": "2890d063",
   "metadata": {},
   "source": [
    "# DSC530 Week 2 Assignment\n",
    "# Name: Madhuri Basava\n",
    "# Date: 3/25/2023"
   ]
  },
  {
   "cell_type": "markdown",
   "id": "3631a463",
   "metadata": {},
   "source": [
    "#### To Display the text “Hello World! My name is Madhuri Basava\""
   ]
  },
  {
   "cell_type": "code",
   "execution_count": 2,
   "id": "de7645e5-2823-4fd1-8cde-6599ca8dff80",
   "metadata": {},
   "outputs": [
    {
     "name": "stdout",
     "output_type": "stream",
     "text": [
      "Hello World! My name is Madhuri Basava\n"
     ]
    }
   ],
   "source": [
    "print(\"Hello World! My name is Madhuri Basava\")"
   ]
  },
  {
   "cell_type": "markdown",
   "id": "ef5d6be9",
   "metadata": {},
   "source": [
    "#### To Add two numbers together"
   ]
  },
  {
   "cell_type": "markdown",
   "id": "55c03428",
   "metadata": {},
   "source": [
    "##### Declare two variable a and b"
   ]
  },
  {
   "cell_type": "code",
   "execution_count": 3,
   "id": "3287e530-83f9-44c0-9aa3-978f76f51f5b",
   "metadata": {},
   "outputs": [],
   "source": [
    "a=10\n",
    "b=20"
   ]
  },
  {
   "cell_type": "markdown",
   "id": "0a09dc94",
   "metadata": {},
   "source": [
    "##### Display addition of above two numbers"
   ]
  },
  {
   "cell_type": "code",
   "execution_count": 4,
   "id": "8344f9ca-66e6-41b0-a8c5-575137670f4b",
   "metadata": {},
   "outputs": [
    {
     "name": "stdout",
     "output_type": "stream",
     "text": [
      "30\n"
     ]
    }
   ],
   "source": [
    "print(a+b)"
   ]
  },
  {
   "cell_type": "markdown",
   "id": "37522980",
   "metadata": {},
   "source": [
    "##### Subtract a number from another number"
   ]
  },
  {
   "cell_type": "code",
   "execution_count": 5,
   "id": "62f36f63-0571-4b59-abb4-49c3fe89b267",
   "metadata": {},
   "outputs": [
    {
     "name": "stdout",
     "output_type": "stream",
     "text": [
      "10\n"
     ]
    }
   ],
   "source": [
    "print(b-a)"
   ]
  },
  {
   "cell_type": "markdown",
   "id": "e5c503ec",
   "metadata": {},
   "source": [
    "##### Multiply two numbers"
   ]
  },
  {
   "cell_type": "code",
   "execution_count": 6,
   "id": "e4580e62-117c-4500-87a6-8b3c7d232328",
   "metadata": {},
   "outputs": [
    {
     "name": "stdout",
     "output_type": "stream",
     "text": [
      "200\n"
     ]
    }
   ],
   "source": [
    "print(a*b)"
   ]
  },
  {
   "cell_type": "markdown",
   "id": "f4a6dc6b",
   "metadata": {},
   "source": [
    "##### Divide between two numbers  (Interger division)"
   ]
  },
  {
   "cell_type": "code",
   "execution_count": 7,
   "id": "024628e9",
   "metadata": {},
   "outputs": [
    {
     "name": "stdout",
     "output_type": "stream",
     "text": [
      "2\n"
     ]
    }
   ],
   "source": [
    "print(b//a)"
   ]
  },
  {
   "cell_type": "markdown",
   "id": "90d565d9",
   "metadata": {},
   "source": [
    "##### Divide between two numbers  (Float division)"
   ]
  },
  {
   "cell_type": "code",
   "execution_count": 8,
   "id": "9dd47882-219b-4b72-86cf-42afc7fb1987",
   "metadata": {},
   "outputs": [
    {
     "name": "stdout",
     "output_type": "stream",
     "text": [
      "2.0\n"
     ]
    }
   ],
   "source": [
    "print(b/a)"
   ]
  },
  {
   "cell_type": "markdown",
   "id": "27e4ac5d",
   "metadata": {},
   "source": [
    "##### Concatenate two strings together (any words)"
   ]
  },
  {
   "cell_type": "code",
   "execution_count": 9,
   "id": "09b1411a-75c2-469b-b439-5056c2e39865",
   "metadata": {},
   "outputs": [
    {
     "name": "stdout",
     "output_type": "stream",
     "text": [
      "Dream Big\n"
     ]
    }
   ],
   "source": [
    "print(\"Dream \"+\"Big\")"
   ]
  },
  {
   "cell_type": "markdown",
   "id": "f7ac75b3",
   "metadata": {},
   "source": [
    "##### Create a list of 4 items"
   ]
  },
  {
   "cell_type": "code",
   "execution_count": 10,
   "id": "7647051c-ba94-43f5-9571-55b6cf7b10db",
   "metadata": {},
   "outputs": [
    {
     "name": "stdout",
     "output_type": "stream",
     "text": [
      "['Tulip', 'Jasmine', 'Rose', 'Hybiscus']\n"
     ]
    }
   ],
   "source": [
    "my_flower_list = [\"Tulip\", \"Jasmine\", \"Rose\", \"Hybiscus\"]\n",
    "print(my_flower_list)"
   ]
  },
  {
   "cell_type": "markdown",
   "id": "dcda4604",
   "metadata": {},
   "source": [
    "##### Append an item to the above list"
   ]
  },
  {
   "cell_type": "code",
   "execution_count": 11,
   "id": "5ac719cf-f03b-449c-9d8a-50e32c5fb4a8",
   "metadata": {},
   "outputs": [
    {
     "name": "stdout",
     "output_type": "stream",
     "text": [
      "['Tulip', 'Jasmine', 'Rose', 'Hybiscus', 'Lotus']\n"
     ]
    }
   ],
   "source": [
    "my_flower_list.append(\"Lotus\")\n",
    "print(my_flower_list)"
   ]
  },
  {
   "cell_type": "markdown",
   "id": "ab479dfd",
   "metadata": {},
   "source": [
    "##### Create a tuple with 4 items"
   ]
  },
  {
   "cell_type": "code",
   "execution_count": 12,
   "id": "ea2f0acd-c716-4c0a-bd64-83e950a0e998",
   "metadata": {},
   "outputs": [
    {
     "name": "stdout",
     "output_type": "stream",
     "text": [
      "('painting', 'Math', 'python', 5)\n"
     ]
    }
   ],
   "source": [
    "mixed_tuple = (\"painting\", \"Math\", \"python\", 5 )\n",
    "print(mixed_tuple)"
   ]
  }
 ],
 "metadata": {
  "kernelspec": {
   "display_name": "Python 3 (ipykernel)",
   "language": "python",
   "name": "python3"
  },
  "language_info": {
   "codemirror_mode": {
    "name": "ipython",
    "version": 3
   },
   "file_extension": ".py",
   "mimetype": "text/x-python",
   "name": "python",
   "nbconvert_exporter": "python",
   "pygments_lexer": "ipython3",
   "version": "3.9.13"
  }
 },
 "nbformat": 4,
 "nbformat_minor": 5
}
